{
 "cells": [
  {
   "cell_type": "code",
   "execution_count": 381,
   "metadata": {
    "colab": {
     "base_uri": "https://localhost:8080/"
    },
    "id": "oevCwI7QaBoe",
    "outputId": "8bf42e97-8ee0-4c6d-8b88-fb272a9dd8e5"
   },
   "outputs": [
    {
     "name": "stdout",
     "output_type": "stream",
     "text": [
      "Requirement already satisfied: spotipy in /usr/local/lib/python3.7/dist-packages (2.19.0)\n",
      "Requirement already satisfied: six>=1.15.0 in /usr/local/lib/python3.7/dist-packages (from spotipy) (1.15.0)\n",
      "Requirement already satisfied: requests>=2.25.0 in /usr/local/lib/python3.7/dist-packages (from spotipy) (2.27.1)\n",
      "Requirement already satisfied: urllib3>=1.26.0 in /usr/local/lib/python3.7/dist-packages (from spotipy) (1.26.8)\n",
      "Requirement already satisfied: idna<4,>=2.5 in /usr/local/lib/python3.7/dist-packages (from requests>=2.25.0->spotipy) (2.10)\n",
      "Requirement already satisfied: charset-normalizer~=2.0.0 in /usr/local/lib/python3.7/dist-packages (from requests>=2.25.0->spotipy) (2.0.12)\n",
      "Requirement already satisfied: certifi>=2017.4.17 in /usr/local/lib/python3.7/dist-packages (from requests>=2.25.0->spotipy) (2021.10.8)\n"
     ]
    }
   ],
   "source": [
    "!pip install spotipy"
   ]
  },
  {
   "cell_type": "code",
   "execution_count": 383,
   "metadata": {
    "id": "wyCtu43naNfm"
   },
   "outputs": [],
   "source": [
    "from tempfile import TemporaryDirectory\n",
    "import torch\n",
    "import torch.nn as nn\n",
    "import numpy as np\n",
    "\n",
    "import spotipy\n",
    "from spotipy.oauth2 import SpotifyClientCredentials\n",
    "cid = '733feec74613475496335bd86b89e056'\n",
    "secret = 'd9bcc1bd872145ec87754dd97873643a'"
   ]
  },
  {
   "cell_type": "code",
   "execution_count": 384,
   "metadata": {
    "id": "v0R3sXZHaQhA"
   },
   "outputs": [],
   "source": [
    "# potential things to analyze:\n",
    "# thom yorke vs carti lyrics (genius api)\n",
    "# valence (happiness) vs popularity (data science)\n",
    "# track features -> genre\n",
    "# is [x] shoegaze/metal/emo/etc?\n",
    "\n",
    "client_credentials_manager = SpotifyClientCredentials(client_id=cid, client_secret=secret)\n",
    "sp = spotipy.Spotify(client_credentials_manager = client_credentials_manager)\n",
    "\n",
    "# only_shallow_id = '52UcjsM15hjCQAUbTW2hy1'\n",
    "# songs = [only_shallow_id]"
   ]
  },
  {
   "cell_type": "code",
   "execution_count": 385,
   "metadata": {
    "id": "9egFMYnnZfW6"
   },
   "outputs": [],
   "source": [
    "\n",
    "\n",
    "non_shoegaze_artists = [ #no shoegaze in entire discog!\n",
    "    'Coldplay',\n",
    "    'Kendrick Lamar',\n",
    "    'Taylor Swift',\n",
    "    'BTS',\n",
    "    'Fleet Foxes',\n",
    "    'Kanye West'\n",
    "]\n",
    "\n",
    "shoegaze_artists = [ #entire discog must have shoegaze!\n",
    "    'my bloody valentine',\n",
    "    'Slowdive',\n",
    "    'Drop Nineteens',\n",
    "    'Parannoul',\n",
    "    'Swervedriver'\n",
    "]\n",
    "\n",
    "artists = non_shoegaze_artists + shoegaze_artists\n",
    "\n",
    "songs = []\n",
    "\n",
    "for artist in artists:\n",
    "    results = sp.search(q=\"artist:\" + artist, type=\"artist\")\n",
    "    artist_id = results['artists']['items'][0]['id']\n",
    "    # print(artist['name'], artist['genres'])\n",
    "    albums = sp.artist_albums(artist_id)['items']\n",
    "\n",
    "    for album in albums:\n",
    "        album_id = album['id']\n",
    "        tracks = sp.album_tracks(album_id)['items']\n",
    "        songs.extend([track['id'] for track in tracks])\n",
    "\n",
    "# print(songs)\n",
    "\n",
    "# for each song, make a list of:\n",
    "# danceability, energy, speechiness, acousticness, instrumentalness, liveness, valence\n",
    "# 1 if shoegaze, 0 if not\n",
    "\n",
    "def encode_song(song_id):\n",
    "    f = sp.audio_features(song_id)[0]\n",
    "    return np.array([f['danceability'], f['energy'], f['speechiness'], f['acousticness'], f['instrumentalness'], f['liveness'], f['valence']])\n",
    "\n",
    "def is_shoegaze(song_id):\n",
    "    # artist_id = sp.track(song_id)['artists'][0]['id']\n",
    "    # print(artist_id)\n",
    "    # return int('shoegaze' in sp.artist(artist_id)['genres'])\n",
    "    artist_name = sp.track(song_id)['artists'][0]['name']\n",
    "    return int(artist_name in shoegaze_artists)\n"
   ]
  },
  {
   "cell_type": "code",
   "execution_count": 386,
   "metadata": {
    "colab": {
     "base_uri": "https://localhost:8080/"
    },
    "id": "pAKzGiPFahDe",
    "outputId": "d3c30692-66e4-41f4-feb1-bb0140dcef3c"
   },
   "outputs": [
    {
     "name": "stdout",
     "output_type": "stream",
     "text": [
      "['0puPjLkM0yGkHcgJ5Cx0Tu', '6s2hGG9yeBypHY9Gf8poVv', '4OcWgqzJPCxfxhUveVHHFj', '3O9LthKRLBGvldECecoHYz', '1z5nCEeGw23FVORtbNYCHG']\n"
     ]
    }
   ],
   "source": [
    "print(songs[15:20])"
   ]
  },
  {
   "cell_type": "code",
   "execution_count": 395,
   "metadata": {
    "id": "Hm_H_YurMCfx"
   },
   "outputs": [],
   "source": [
    "song_data = [encode_song(song) for song in songs]\n",
    "genres = [is_shoegaze(song) for song in songs]"
   ]
  },
  {
   "cell_type": "code",
   "execution_count": 396,
   "metadata": {
    "colab": {
     "base_uri": "https://localhost:8080/"
    },
    "id": "zaxAwJ_BdHfp",
    "outputId": "c8ca8e9d-3aaf-4fe3-d842-1dd3fea7c6f7"
   },
   "outputs": [
    {
     "name": "stdout",
     "output_type": "stream",
     "text": [
      "[array([0.491 , 0.262 , 0.0572, 0.89  , 0.288 , 0.207 , 0.338 ]), array([0.476 , 0.18  , 0.0346, 0.943 , 0.235 , 0.138 , 0.236 ]), array([0.393 , 0.301 , 0.0497, 0.758 , 0.764 , 0.161 , 0.0384]), array([0.503  , 0.594  , 0.0263 , 0.00276, 0.0102 , 0.109  , 0.168  ]), array([0.512 , 0.452 , 0.0292, 0.775 , 0.0818, 0.065 , 0.235 ])]\n",
      "[0, 0, 0, 0, 0]\n"
     ]
    }
   ],
   "source": [
    "print(song_data[40:45])\n",
    "print(genres[40:45])"
   ]
  },
  {
   "cell_type": "code",
   "execution_count": 397,
   "metadata": {
    "id": "WAE1AFffZqOZ"
   },
   "outputs": [],
   "source": [
    "model = nn.Sequential(\n",
    "  nn.Linear(7, 16),\n",
    "  nn.ReLU(),\n",
    "  nn.Linear(16, 16),\n",
    "  nn.ReLU(),\n",
    "  nn.Linear(16, 1),\n",
    "  nn.Sigmoid()\n",
    ")\n",
    "optimizer = torch.optim.SGD(model.parameters(), lr=1e-3)\n",
    "\n",
    "\n"
   ]
  },
  {
   "cell_type": "code",
   "execution_count": 398,
   "metadata": {
    "id": "SBxxOSirIK8w"
   },
   "outputs": [],
   "source": [
    "data = []\n",
    "for i in range(len(song_data)):\n",
    "  data.append((song_data[i], genres[i]))"
   ]
  },
  {
   "cell_type": "code",
   "execution_count": 399,
   "metadata": {
    "colab": {
     "base_uri": "https://localhost:8080/"
    },
    "id": "CVn4Af-5RTWm",
    "outputId": "2ddb7d00-8647-4923-c63c-abf90a78d5d7"
   },
   "outputs": [
    {
     "name": "stdout",
     "output_type": "stream",
     "text": [
      "[(array([0.512 , 0.452 , 0.0292, 0.775 , 0.0818, 0.065 , 0.235 ]), 0), (array([5.50e-01, 7.96e-01, 3.78e-02, 1.07e-03, 1.18e-05, 1.23e-01,\n",
      "       5.10e-01]), 0)]\n"
     ]
    }
   ],
   "source": [
    "# print(len(x))\n",
    "print(data[60:62])"
   ]
  },
  {
   "cell_type": "markdown",
   "metadata": {
    "id": "zNPdEOvQbuhX"
   },
   "source": []
  },
  {
   "cell_type": "code",
   "execution_count": 400,
   "metadata": {
    "colab": {
     "base_uri": "https://localhost:8080/"
    },
    "id": "QQkhx-jWfhcD",
    "outputId": "06f0ea24-8ca6-478b-ae53-8ba860683cf2"
   },
   "outputs": [
    {
     "name": "stdout",
     "output_type": "stream",
     "text": [
      "LOSS 0.2824808687752435\n",
      "LOSS 0.23264107433148015\n",
      "LOSS 0.2154640401685795\n",
      "LOSS 0.20791406318588992\n",
      "LOSS 0.20401920913627306\n"
     ]
    }
   ],
   "source": [
    "# import tqdm\n",
    "for epoch in range(1, 51):\n",
    "  losses = []\n",
    "  for x, y in data:\n",
    "    x = torch.tensor(x).reshape(7).float()\n",
    "    y = torch.tensor(y).reshape(1).float()\n",
    "\n",
    "    guess = model(x)\n",
    "\n",
    "    loss = nn.functional.binary_cross_entropy(guess, y)\n",
    "\n",
    "    optimizer.zero_grad()\n",
    "    loss.backward()\n",
    "    optimizer.step()\n",
    "\n",
    "\n",
    "    losses.append(loss.item())\n",
    "  if epoch % 10 == 0:\n",
    "    print(\"LOSS\", np.mean(losses))"
   ]
  },
  {
   "cell_type": "code",
   "execution_count": 401,
   "metadata": {
    "id": "K-tFsjFNdbYb"
   },
   "outputs": [],
   "source": [
    "def get_genre(name, artist):\n",
    "  results = sp.search(q=\"track:\" + name + \" artist:\" + artist, type=\"track\")\n",
    "  track_id = results['tracks']['items'][0]['id']\n",
    "\n",
    "  song = encode_song(track_id)\n",
    "  song = torch.tensor(song).float().reshape(7)\n",
    "\n",
    "  value = model(song)[0].item()\n",
    "  probability = round(10000 * value) / 100\n",
    "  if round(value):\n",
    "    return f'{name} by {artist} is shoegaze ({probability}% confidence)'\n",
    "  return f'{name} by {artist} is not shoegaze ({100 - probability}% confidence)'\n"
   ]
  },
  {
   "cell_type": "code",
   "execution_count": 402,
   "metadata": {
    "colab": {
     "base_uri": "https://localhost:8080/"
    },
    "id": "a2Lk8_yxZjyD",
    "outputId": "738a9f02-b634-4007-cad7-f47e1cc0a4a2"
   },
   "outputs": [
    {
     "name": "stdout",
     "output_type": "stream",
     "text": [
      "New Slaves by Kanye West is not shoegaze (50.79% confidence)\n",
      "Self Control by Frank Ocean is not shoegaze (96.73% confidence)\n",
      "Let Down by Radiohead is shoegaze (82.03% confidence)\n",
      "Blow Out by Radiohead is shoegaze (91.12% confidence)\n",
      "Only Shallow by my bloody valentine is shoegaze (94.2% confidence)\n",
      "Heaven or Las Vegas by Cocteau Twins is shoegaze (90.7% confidence)\n",
      "Fell in Love (At the Water) by Candy Claws is shoegaze (85.37% confidence)\n",
      "Chocolate Matter by Sweet Trip is shoegaze (78.48% confidence)\n",
      "Bloodhail by Have a Nice Life is shoegaze (86.61% confidence)\n",
      "Vapour Trail by Ride is shoegaze (94.51% confidence)\n",
      "Hell of a Life by Kanye West is shoegaze (76.92% confidence)\n",
      "Blank Space by Taylor Swift is not shoegaze (71.32% confidence)\n",
      "Alison by Slowdive is shoegaze (92.91% confidence)\n",
      "Sometimes by my bloody valentine is shoegaze (94.01% confidence)\n",
      "Beautiful World by Parannoul is shoegaze (94.48% confidence)\n",
      "Modern Love Stories by Beach House is shoegaze (93.59% confidence)\n",
      "Wesley's Theory by Kendrick Lamar is not shoegaze (67.35% confidence)\n",
      "Pictures of You by The Cure is shoegaze (82.39% confidence)\n",
      "Blood Section by Swans is shoegaze (94.87% confidence)\n",
      "Ring a Bell by Death Grips is not shoegaze (70.17% confidence)\n",
      "Total Trash by Sonic Youth is shoegaze (93.65% confidence)\n"
     ]
    }
   ],
   "source": [
    "test_songs = [\n",
    "    (\"New Slaves\", 'Kanye West'),\n",
    "    (\"Self Control\", 'Frank Ocean'),\n",
    "    (\"Let Down\", 'Radiohead'),\n",
    "    (\"Blow Out\", 'Radiohead'),\n",
    "    ('Only Shallow', 'my bloody valentine'),\n",
    "    ('Heaven or Las Vegas', 'Cocteau Twins'),\n",
    "    ('Fell in Love (At the Water)', 'Candy Claws'),\n",
    "    ('Chocolate Matter', 'Sweet Trip'),\n",
    "    ('Bloodhail', 'Have a Nice Life'),\n",
    "    ('Vapour Trail', 'Ride'),\n",
    "    ('Hell of a Life', 'Kanye West'),\n",
    "    ('Blank Space', 'Taylor Swift'),\n",
    "    ('Alison', 'Slowdive'),\n",
    "    ('Sometimes', 'my bloody valentine'),\n",
    "    ('Beautiful World', 'Parannoul'),\n",
    "    ('Modern Love Stories', 'Beach House'),\n",
    "    ('Wesley\\'s Theory', 'Kendrick Lamar'),\n",
    "    ('Pictures of You', 'The Cure'),\n",
    "    ('Blood Section', 'Swans'),\n",
    "    ('Ring a Bell', 'Death Grips'),\n",
    "    ('Total Trash', 'Sonic Youth')\n",
    "]\n",
    "\n",
    "tests = [get_genre(x[0], x[1]) for x in test_songs]\n",
    "for test in tests:\n",
    "  print(test)"
   ]
  }
 ],
 "metadata": {
  "colab": {
   "collapsed_sections": [],
   "name": "is_it_shoegaze.ipynb",
   "provenance": []
  },
  "kernelspec": {
   "display_name": "Python 3 (ipykernel)",
   "language": "python",
   "name": "python3"
  },
  "language_info": {
   "codemirror_mode": {
    "name": "ipython",
    "version": 3
   },
   "file_extension": ".py",
   "mimetype": "text/x-python",
   "name": "python",
   "nbconvert_exporter": "python",
   "pygments_lexer": "ipython3",
   "version": "3.9.7"
  }
 },
 "nbformat": 4,
 "nbformat_minor": 1
}
