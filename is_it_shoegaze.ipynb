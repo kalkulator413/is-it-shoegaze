{
 "cells": [
  {
   "cell_type": "code",
   "execution_count": 2,
   "metadata": {
    "colab": {
     "base_uri": "https://localhost:8080/"
    },
    "id": "oevCwI7QaBoe",
    "outputId": "8bf42e97-8ee0-4c6d-8b88-fb272a9dd8e5"
   },
   "outputs": [],
   "source": [
    "# %pip install spotipy"
   ]
  },
  {
   "cell_type": "code",
   "execution_count": 1,
   "metadata": {
    "id": "wyCtu43naNfm"
   },
   "outputs": [],
   "source": [
    "from api_info import *\n",
    "import torch\n",
    "import torch.nn as nn\n",
    "import numpy as np\n",
    "\n",
    "import spotipy\n",
    "from spotipy.oauth2 import SpotifyClientCredentials\n",
    "# cid = '733feec7461347549s6335bd86b89e056'\n",
    "# print('enter the secret value')\n",
    "# secret = input()"
   ]
  },
  {
   "cell_type": "code",
   "execution_count": 3,
   "metadata": {
    "id": "v0R3sXZHaQhA"
   },
   "outputs": [],
   "source": [
    "# potential things to analyze:\n",
    "# thom yorke vs carti lyrics (genius api)\n",
    "# valence (happiness) vs popularity (data science)\n",
    "# track features -> genre\n",
    "# is [x] shoegaze/metal/emo/etc?\n",
    "\n",
    "client_credentials_manager = SpotifyClientCredentials(client_id=cid, client_secret=secret)\n",
    "sp = spotipy.Spotify(client_credentials_manager = client_credentials_manager)\n",
    "\n",
    "# only_shallow_id = '52UcjsM15hjCQAUbTW2hy1'\n",
    "# songs = [only_shallow_id]"
   ]
  },
  {
   "cell_type": "code",
   "execution_count": 88,
   "metadata": {
    "id": "9egFMYnnZfW6"
   },
   "outputs": [],
   "source": [
    "\n",
    "\n",
    "non_shoegaze_artists = [ #no shoegaze in entire discog!\n",
    "    'Coldplay',\n",
    "    'Kendrick Lamar',\n",
    "    'Taylor Swift',\n",
    "    'BTS',\n",
    "    'Fleet Foxes',\n",
    "    'Kanye West',\n",
    "    'Black Country, New Road',\n",
    "    'The Strokes',\n",
    "    'Joy Division'\n",
    "]\n",
    "\n",
    "shoegaze_artists = [\n",
    "    'my bloody valentine',\n",
    "    'Slowdive',\n",
    "    'Drop Nineteens',\n",
    "    'Parannoul',\n",
    "    'Swervedriver',\n",
    "    'Ride',\n",
    "    'LSD and the Search for God',\n",
    "    'Candy Claws'\n",
    "]\n",
    "\n",
    "shoegaze_albums = [\n",
    "    ('Loveless', 'my bloody valentine'),\n",
    "    ('m b v', 'my bloody valentine'),\n",
    "    ('Isnt Anything', 'my bloody valentine'),\n",
    "    ('To See the Next Part of the Dream', 'Parannoul'),\n",
    "    ('Souvlaki', 'Slowdive'),\n",
    "    ('Just For a Day', 'Slowdive'),\n",
    "    ('Delaware', 'Drop Nineteens'),\n",
    "    ('Nowhere', 'Ride'),\n",
    "    ('LSD and the Search for God', 'LSD and the Search for God'),\n",
    "    ('Raise', 'Swervedriver'),\n",
    "    ('Ceres & Calypso in the Deep Time', 'Candy Claws')\n",
    "]\n",
    "\n",
    "artists = non_shoegaze_artists + shoegaze_artists"
   ]
  },
  {
   "cell_type": "code",
   "execution_count": 89,
   "metadata": {},
   "outputs": [],
   "source": [
    "songs = []\n",
    "\n",
    "for artist in non_shoegaze_artists:\n",
    "    results = sp.search(q=\"artist:\" + artist, type=\"artist\")\n",
    "    artist_id = results['artists']['items'][0]['id']\n",
    "    # print(artist['name'], artist['genres'])\n",
    "    albums = sp.artist_albums(artist_id)['items']\n",
    "\n",
    "    for album in albums:\n",
    "        album_id = album['id']\n",
    "        tracks = sp.album_tracks(album_id)['items']\n",
    "        songs.extend([track['id'] for track in tracks])"
   ]
  },
  {
   "cell_type": "code",
   "execution_count": 90,
   "metadata": {},
   "outputs": [],
   "source": [
    "for album, artist in shoegaze_albums:\n",
    "    results = sp.search(q='artist:' + artist + ' album:' + album, type='album')\n",
    "    album_id = results['albums']['items'][0]['id']\n",
    "    tracks = sp.album_tracks(album_id)['items']\n",
    "    songs.extend([track['id'] for track in tracks])"
   ]
  },
  {
   "cell_type": "code",
   "execution_count": 91,
   "metadata": {},
   "outputs": [
    {
     "name": "stdout",
     "output_type": "stream",
     "text": [
      "['2wleRXcIPqltoDPLMH5WDa', '0jH7gF7KCk2Lom9gimaKms', '7H4NC6MYkcO91vrXwRQ4N1', '4nb8OcZG8lpnHi5DmkEnY2', '49YD8pGETf5HUKxouVdq3W']\n",
      "['3GSfVEFVJCTvtxF0UUzdIr', '0MjmarACqIH451S26Wfpuw', '74ctB0ufdAY69TDN9J18V9', '2w2WdQb59ERxKh25nFjyAx']\n"
     ]
    }
   ],
   "source": [
    "print(songs[10:15])\n",
    "print(songs[-5:-1])"
   ]
  },
  {
   "cell_type": "code",
   "execution_count": 92,
   "metadata": {},
   "outputs": [],
   "source": [
    "# for each song, make a list of:\n",
    "# danceability, energy, speechiness, acousticness, instrumentalness, liveness, valence\n",
    "# 1 if shoegaze, 0 if not\n",
    "\n",
    "def encode_song(song_id):\n",
    "    f = sp.audio_features(song_id)[0]\n",
    "    return np.array([f['danceability'], f['energy'], f['speechiness'], f['acousticness'], f['instrumentalness'], f['liveness'], f['valence']])\n",
    "\n",
    "def is_shoegaze(song_id):\n",
    "    # artist_id = sp.track(song_id)['artists'][0]['id']\n",
    "    # print(artist_id)\n",
    "    # return int('shoegaze' in sp.artist(artist_id)['genres'])\n",
    "    artist_name = sp.track(song_id)['artists'][0]['name']\n",
    "    return int(artist_name in shoegaze_artists)"
   ]
  },
  {
   "cell_type": "code",
   "execution_count": 93,
   "metadata": {
    "id": "Hm_H_YurMCfx"
   },
   "outputs": [],
   "source": [
    "song_data = [encode_song(song) for song in songs]\n",
    "genres = [is_shoegaze(song) for song in songs]"
   ]
  },
  {
   "cell_type": "code",
   "execution_count": 94,
   "metadata": {
    "colab": {
     "base_uri": "https://localhost:8080/"
    },
    "id": "zaxAwJ_BdHfp",
    "outputId": "c8ca8e9d-3aaf-4fe3-d842-1dd3fea7c6f7"
   },
   "outputs": [
    {
     "name": "stdout",
     "output_type": "stream",
     "text": [
      "[array([0.491 , 0.262 , 0.0572, 0.89  , 0.288 , 0.207 , 0.338 ]), array([0.476 , 0.18  , 0.0346, 0.943 , 0.235 , 0.138 , 0.236 ]), array([0.393 , 0.301 , 0.0497, 0.758 , 0.764 , 0.161 , 0.0384]), array([0.503  , 0.594  , 0.0263 , 0.00276, 0.0102 , 0.109  , 0.168  ]), array([0.512 , 0.452 , 0.0292, 0.775 , 0.0818, 0.065 , 0.235 ])]\n",
      "[0, 0, 0, 0, 0]\n",
      "[array([0.245 , 0.52  , 0.0398, 0.0535, 0.412 , 0.272 , 0.695 ]), array([0.145 , 0.628 , 0.0347, 0.186 , 0.835 , 0.128 , 0.222 ]), array([0.296 , 0.55  , 0.0427, 0.0024, 0.0654, 0.327 , 0.305 ]), array([0.281  , 0.694  , 0.0412 , 0.586  , 0.00712, 0.0868 , 0.334  ])]\n",
      "[1, 1, 1, 1]\n",
      "2524\n",
      "2524\n"
     ]
    }
   ],
   "source": [
    "print(song_data[40:45])\n",
    "print(genres[40:45])\n",
    "\n",
    "print(song_data[-5:-1])\n",
    "print(genres[-5:-1])\n",
    "\n",
    "print(len(song_data))\n",
    "print(len(genres))"
   ]
  },
  {
   "cell_type": "code",
   "execution_count": 95,
   "metadata": {
    "id": "WAE1AFffZqOZ"
   },
   "outputs": [],
   "source": [
    "model = nn.Sequential(\n",
    "  nn.Linear(7, 128),\n",
    "  nn.ReLU(),\n",
    "  nn.Linear(128, 128),\n",
    "  nn.ReLU(),\n",
    "  nn.Linear(128, 1),\n",
    "  nn.Sigmoid()\n",
    ")\n",
    "optimizer = torch.optim.SGD(model.parameters(), lr=1e-3)\n",
    "\n",
    "\n"
   ]
  },
  {
   "cell_type": "code",
   "execution_count": 96,
   "metadata": {
    "id": "SBxxOSirIK8w"
   },
   "outputs": [],
   "source": [
    "data = []\n",
    "for i in range(len(song_data)):\n",
    "  data.append((song_data[i], genres[i]))"
   ]
  },
  {
   "cell_type": "code",
   "execution_count": 97,
   "metadata": {
    "colab": {
     "base_uri": "https://localhost:8080/"
    },
    "id": "CVn4Af-5RTWm",
    "outputId": "2ddb7d00-8647-4923-c63c-abf90a78d5d7"
   },
   "outputs": [
    {
     "name": "stdout",
     "output_type": "stream",
     "text": [
      "[(array([0.512 , 0.452 , 0.0292, 0.775 , 0.0818, 0.065 , 0.235 ]), 0), (array([5.50e-01, 7.96e-01, 3.78e-02, 1.07e-03, 1.18e-05, 1.23e-01,\n",
      "       5.10e-01]), 0)]\n"
     ]
    }
   ],
   "source": [
    "# print(len(x))\n",
    "print(data[60:62])"
   ]
  },
  {
   "cell_type": "markdown",
   "metadata": {
    "id": "zNPdEOvQbuhX"
   },
   "source": []
  },
  {
   "cell_type": "code",
   "execution_count": 98,
   "metadata": {
    "colab": {
     "base_uri": "https://localhost:8080/"
    },
    "id": "QQkhx-jWfhcD",
    "outputId": "06f0ea24-8ca6-478b-ae53-8ba860683cf2"
   },
   "outputs": [
    {
     "name": "stdout",
     "output_type": "stream",
     "text": [
      "LOSS 0.11353819126685935\n",
      "LOSS 0.09791673203887272\n",
      "LOSS 0.091681720549452\n",
      "LOSS 0.08702002040615807\n",
      "LOSS 0.08325949012808677\n"
     ]
    }
   ],
   "source": [
    "# import tqdm\n",
    "for epoch in range(1, 51):\n",
    "  losses = []\n",
    "  for x, y in data:\n",
    "    x = torch.tensor(x).reshape(7).float()\n",
    "    y = torch.tensor(y).reshape(1).float()\n",
    "\n",
    "    guess = model(x)\n",
    "\n",
    "    loss = nn.functional.binary_cross_entropy(guess, y)\n",
    "\n",
    "    optimizer.zero_grad()\n",
    "    loss.backward()\n",
    "    optimizer.step()\n",
    "\n",
    "\n",
    "    losses.append(loss.item())\n",
    "  if epoch % 10 == 0:\n",
    "    print(\"LOSS\", np.mean(losses))"
   ]
  },
  {
   "cell_type": "code",
   "execution_count": 99,
   "metadata": {
    "id": "K-tFsjFNdbYb"
   },
   "outputs": [],
   "source": [
    "def get_genre(name, artist):\n",
    "  results = sp.search(q=\"track:\" + name + \" artist:\" + artist, type=\"track\")\n",
    "  track_id = results['tracks']['items'][0]['id']\n",
    "\n",
    "  song = encode_song(track_id)\n",
    "  song = torch.tensor(song).float().reshape(7)\n",
    "\n",
    "  value = model(song)[0].item()\n",
    "  probability = round(10000 * value) / 100\n",
    "  if round(value):\n",
    "    return f'{name} by {artist} is shoegaze ({probability}% confidence)'\n",
    "  return f'{name} by {artist} is not shoegaze ({100 - probability}% confidence)'\n"
   ]
  },
  {
   "cell_type": "code",
   "execution_count": 101,
   "metadata": {
    "colab": {
     "base_uri": "https://localhost:8080/"
    },
    "id": "a2Lk8_yxZjyD",
    "outputId": "738a9f02-b634-4007-cad7-f47e1cc0a4a2"
   },
   "outputs": [
    {
     "name": "stdout",
     "output_type": "stream",
     "text": [
      "New Slaves by Kanye West is not shoegaze (95.97% confidence)\n",
      "Self Control by Frank Ocean is not shoegaze (99.77% confidence)\n",
      "Let Down by Radiohead is not shoegaze (76.86% confidence)\n",
      "Blow Out by Radiohead is shoegaze (58.14% confidence)\n",
      "Only Shallow by my bloody valentine is shoegaze (87.97% confidence)\n",
      "Heaven or Las Vegas by Cocteau Twins is not shoegaze (65.85% confidence)\n",
      "Fell in Love (At the Water) by Candy Claws is not shoegaze (62.65% confidence)\n",
      "Chocolate Matter by Sweet Trip is not shoegaze (89.97% confidence)\n",
      "Bloodhail by Have a Nice Life is not shoegaze (72.56% confidence)\n",
      "Vapour Trail by Ride is shoegaze (79.83% confidence)\n",
      "Hell of a Life by Kanye West is not shoegaze (91.37% confidence)\n",
      "Blank Space by Taylor Swift is not shoegaze (98.98% confidence)\n",
      "Alison by Slowdive is shoegaze (84.4% confidence)\n",
      "Sometimes by my bloody valentine is shoegaze (85.59% confidence)\n",
      "Beautiful World by Parannoul is shoegaze (87.97% confidence)\n",
      "Modern Love Stories by Beach House is shoegaze (86.63% confidence)\n",
      "Wesley's Theory by Kendrick Lamar is not shoegaze (98.5% confidence)\n",
      "Pictures of You by The Cure is not shoegaze (89.01% confidence)\n",
      "Blood Section by Swans is shoegaze (71.34% confidence)\n",
      "Ring a Bell by Death Grips is not shoegaze (98.62% confidence)\n",
      "Total Trash by Sonic Youth is shoegaze (77.54% confidence)\n",
      "The Scientist by Coldplay is not shoegaze (99.24% confidence)\n",
      "Territorial Pissings by Nirvana is not shoegaze (83.53999999999999% confidence)\n",
      "Hard to Explain by The Strokes is shoegaze (79.97% confidence)\n",
      "Snow Globes by Black Country, New Road is not shoegaze (92.38% confidence)\n"
     ]
    }
   ],
   "source": [
    "test_songs = [\n",
    "    (\"New Slaves\", 'Kanye West'),\n",
    "    (\"Self Control\", 'Frank Ocean'),\n",
    "    (\"Let Down\", 'Radiohead'),\n",
    "    (\"Blow Out\", 'Radiohead'),\n",
    "    ('Only Shallow', 'my bloody valentine'),\n",
    "    ('Heaven or Las Vegas', 'Cocteau Twins'),\n",
    "    ('Fell in Love (At the Water)', 'Candy Claws'),\n",
    "    ('Chocolate Matter', 'Sweet Trip'),\n",
    "    ('Bloodhail', 'Have a Nice Life'),\n",
    "    ('Vapour Trail', 'Ride'),\n",
    "    ('Hell of a Life', 'Kanye West'),\n",
    "    ('Blank Space', 'Taylor Swift'),\n",
    "    ('Alison', 'Slowdive'),\n",
    "    ('Sometimes', 'my bloody valentine'),\n",
    "    ('Beautiful World', 'Parannoul'),\n",
    "    ('Modern Love Stories', 'Beach House'),\n",
    "    ('Wesley\\'s Theory', 'Kendrick Lamar'),\n",
    "    ('Pictures of You', 'The Cure'),\n",
    "    ('Blood Section', 'Swans'),\n",
    "    ('Ring a Bell', 'Death Grips'),\n",
    "    ('Total Trash', 'Sonic Youth'),\n",
    "    ('The Scientist', 'Coldplay'),\n",
    "    ('Territorial Pissings', 'Nirvana'),\n",
    "    ('Hard to Explain', 'The Strokes'),\n",
    "    ('Snow Globes', 'Black Country, New Road')\n",
    "]\n",
    "\n",
    "tests = [get_genre(x[0], x[1]) for x in test_songs]\n",
    "for test in tests:\n",
    "  print(test)"
   ]
  }
 ],
 "metadata": {
  "colab": {
   "collapsed_sections": [],
   "name": "is_it_shoegaze.ipynb",
   "provenance": []
  },
  "kernelspec": {
   "display_name": "Python 3 (ipykernel)",
   "language": "python",
   "name": "python3"
  },
  "language_info": {
   "codemirror_mode": {
    "name": "ipython",
    "version": 3
   },
   "file_extension": ".py",
   "mimetype": "text/x-python",
   "name": "python",
   "nbconvert_exporter": "python",
   "pygments_lexer": "ipython3",
   "version": "3.9.7"
  }
 },
 "nbformat": 4,
 "nbformat_minor": 1
}
